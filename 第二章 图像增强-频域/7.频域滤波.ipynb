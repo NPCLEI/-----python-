{
 "cells": [
  {
   "cell_type": "code",
   "execution_count": 2,
   "metadata": {},
   "outputs": [],
   "source": [
    "import sys\n",
    "sys.path.append(\"../\")\n",
    "import npccv.fft as nft\n",
    "import npccv.utils as utils\n",
    "import numpy as np\n",
    "\n",
    "class fftimg:\n",
    "    def __init__(self,img):\n",
    "        \"\"\"\n",
    "            img:tpye->numpy array,one channels\n",
    "        \"\"\"\n",
    "        self.img = img\n",
    "        self.fft2 = nft.FFT2(self.img,depart=False)\n",
    "\n",
    "    def Power(self):\n",
    "        \"\"\"\n",
    "        图像总功率\n",
    "        \"\"\"\n",
    "        return np.sum(np.abs(self.fft2) ** 2)\n",
    "\n",
    "    def __easyFDF__(self,d0 = 0.5):\n",
    "        dist = utils.distMat(self.img)\n",
    "        # huv = \n",
    "\n",
    "    FDFfuc = {\n",
    "        \"easy\":\"\"\n",
    "    }\n",
    "\n",
    "    #频域滤波\n",
    "    def FDF(self,param,type = \"easy\"):\n",
    "        \"\"\"\n",
    "        frequency domain filtering\n",
    "\n",
    "        type:\n",
    "        easy:理想低通滤波器\n",
    "        \"\"\"\n",
    "\n",
    "\n",
    "\n",
    "        pass\n",
    "\n",
    "    def FSD(self):\n",
    "        \"\"\"\n",
    "            返回频谱,频域\n",
    "        \"\"\"\n",
    "        res = np.fft.fftshift(self.fft2)\n",
    "\n",
    "        stm = np.log(np.abs(res))\n",
    "        pse = np.angle(res)\n",
    "\n",
    "        return  stm,pse\n",
    "\n",
    "\n"
   ]
  }
 ],
 "metadata": {
  "interpreter": {
   "hash": "df73026b03241b6f4b4cc50cf6809183251fbcd9dc70a2bfc96b2912e59c9542"
  },
  "kernelspec": {
   "display_name": "Python 3.7.6 ('base')",
   "language": "python",
   "name": "python3"
  },
  "language_info": {
   "codemirror_mode": {
    "name": "ipython",
    "version": 3
   },
   "file_extension": ".py",
   "mimetype": "text/x-python",
   "name": "python",
   "nbconvert_exporter": "python",
   "pygments_lexer": "ipython3",
   "version": "3.7.6"
  },
  "orig_nbformat": 4
 },
 "nbformat": 4,
 "nbformat_minor": 2
}
